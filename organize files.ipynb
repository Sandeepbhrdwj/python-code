{
 "cells": [
  {
   "cell_type": "code",
   "execution_count": 1,
   "metadata": {},
   "outputs": [],
   "source": [
    "import os\n",
    "import glob"
   ]
  },
  {
   "cell_type": "code",
   "execution_count": 2,
   "metadata": {},
   "outputs": [
    {
     "data": {
      "text/plain": [
       "'C:\\\\Users\\\\Bhardwaj\\\\Desktop\\\\python-handon'"
      ]
     },
     "execution_count": 2,
     "metadata": {},
     "output_type": "execute_result"
    }
   ],
   "source": [
    "os.getcwd()"
   ]
  },
  {
   "cell_type": "code",
   "execution_count": 3,
   "metadata": {},
   "outputs": [],
   "source": [
    "path=r'E:\\2018'"
   ]
  },
  {
   "cell_type": "code",
   "execution_count": 4,
   "metadata": {},
   "outputs": [
    {
     "data": {
      "text/plain": [
       "['23-ssspaths.ppt',\n",
       " '3154-FuzzyLogic.pdf',\n",
       " '4CoNNIJEST10.pdf',\n",
       " '63_1_1_File0005.PDF',\n",
       " 'Advertisement-1.pdf',\n",
       " 'Amish Tripathi - [Shiva Trilogy 01] - The Immortals of Meluha (epub).epub',\n",
       " 'arboriOptimali_en.pdf',\n",
       " 'blackbox_vs_whitebox_testing.pdf',\n",
       " 'Carnegie_-_How_To_Win_Friends_And_Influence_People.mobi',\n",
       " 'Chapter24-Branch-6April.pdf',\n",
       " 'chapter6.doc',\n",
       " 'corporatelifeina00majurich.epub',\n",
       " 'd2014082010(1).pptx',\n",
       " 'd2014082010.pptx',\n",
       " 'Dale-Carnegie-How-to-win-friends-and-influence-people.pdf',\n",
       " 'doc_files',\n",
       " 'dupleixclivebegi00dodwuoft.epub',\n",
       " 'epub_files',\n",
       " 'Fault%20Lines_%20How%20Hidden%20Fractur%20-%20Raghuram%20G.%20Rajan.epub',\n",
       " 'fcpc May-2011.pdf',\n",
       " 'Form10C.PDF',\n",
       " 'Help_Form19.pdf',\n",
       " 'History_of_Egypt.mobi',\n",
       " 'Kenneally_Miranda-Jesse_39_s_Girl.epub',\n",
       " 'Knowledge-based systems.pptx',\n",
       " 'kumbakona-shlokasamkhya.pdf',\n",
       " 'lec1-3.pdf',\n",
       " 'lessonplanKBSD-mtech-3rd.doc',\n",
       " 'letter2.pdf',\n",
       " 'Logic intro fol-tableaux.pdf',\n",
       " 'logic(1).pdf',\n",
       " 'logic.pdf',\n",
       " 'logic_3.pdf',\n",
       " 'M.A. SYLLABUS 2014-15.pdf',\n",
       " 'Mammaries of the Welfare State, The - Chatterjee, Upamanyu-1.epub',\n",
       " 'Mammaries of the Welfare State, The - Chatterjee, Upamanyu.epub',\n",
       " 'mobi_files',\n",
       " 'Munroe_Sadie-All_It_Takes.epub',\n",
       " 'mystery-complex.png',\n",
       " 'New_Suez_Canal.png',\n",
       " 'Pakistan - Anatol Lieven (1).epub',\n",
       " 'pdf_files',\n",
       " 'pdf_filesletter3.pdf',\n",
       " 'png_files',\n",
       " 'pptx_files',\n",
       " 'ppt_files',\n",
       " 'Propositional logic bookpart1.pdf',\n",
       " 'Science-2015-Parkes-267-72.pdf',\n",
       " 'standard-tube-map.pdf',\n",
       " 'Stieg_Larsson_-_The_Girl_who_played_with_Fire.epub',\n",
       " 'The Death of Vishnu.epub',\n",
       " 'The Secret of the Nagas (epub).epub',\n",
       " 'THE WITNESS - Sandra Brown.epub',\n",
       " 'Udayasankar,_Krishna-The_Aryavarta_Chronicles_Kaurava__Book_2.epub',\n",
       " 'zip_files',\n",
       " '[William_Dalrymple]_Return_of_a_King_The_Battle_f(BookZa.org).epub']"
      ]
     },
     "execution_count": 4,
     "metadata": {},
     "output_type": "execute_result"
    }
   ],
   "source": [
    "os.listdir(path)"
   ]
  },
  {
   "cell_type": "code",
   "execution_count": 6,
   "metadata": {},
   "outputs": [],
   "source": [
    "for file in os.listdir(path):\n",
    "    if os.path.isfile(file):\n",
    "        exte=file.split('.')[1]\n",
    "        name=file.split('.')[0]\n",
    "        if exte+'_files' in os.listdir(path):\n",
    "            pass\n",
    "        else:\n",
    "            os.mkdir(path+'\\\\'+exte+'_files')"
   ]
  },
  {
   "cell_type": "code",
   "execution_count": 44,
   "metadata": {},
   "outputs": [],
   "source": [
    "def makedir(path):\n",
    "    for f in glob.glob(path+'\\\\*'):\n",
    "        nam=f.split('.')[0:len(f)-1][0].split('\\\\')[-1]\n",
    "        ext=f.split('.')[-1]\n",
    "        #nam=f.split('.')[0:len(f)-1]\n",
    "        if os.path.exists(path+'\\\\'+ext.upper()+'_files'):\n",
    "            continue\n",
    "        else:\n",
    "            os.mkdir(path+'\\\\'+ext.upper()+'_files')\n"
   ]
  },
  {
   "cell_type": "code",
   "execution_count": 43,
   "metadata": {},
   "outputs": [],
   "source": [
    "def movefile(path):\n",
    "    import shutil\n",
    "    for f in glob.glob(path+'\\\\*'):\n",
    "        #nam=f.split('.')[0:len(f)-1][0].split('\\\\')[-1]\n",
    "        nam='.'\n",
    "        nam=nam.join(f.split('.')[0:len(f.split('.'))-1])\n",
    "        nam=nam.split('\\\\')[-1]\n",
    "        #print(nam)\n",
    "        if '\\\\' in f.split('.')[-1]:\n",
    "            pass\n",
    "        else:\n",
    "            ext=f.split('.')[-1]\n",
    "            fullfilename=nam+'.'+ext\n",
    "            src=path+'\\\\'+fullfilename\n",
    "            dst=path+'\\\\'+ext.upper()+'_files\\\\'+fullfilename\n",
    "            #print(src)\n",
    "            #print(dst)\n",
    "            #print(ext)\n",
    "            #print(nam+'.'+ext)\n",
    "            #os.rename(nam+'.'+ext,path+'\\\\'+ext+'_files\\\\'+nam+'.'+ext)\n",
    "            #print(os.path.join(path+'\\\\', nam+'.'+ext))\n",
    "            #print(os.path.join(path+'\\\\'+ext+'_files\\\\',nam+'.'+ext))\n",
    "            #shutil.copy(src,dst)\n",
    "            shutil.move(src,dst)\n",
    "\n",
    "    print(\"succesfully organized\")\n",
    "        "
   ]
  },
  {
   "cell_type": "markdown",
   "metadata": {},
   "source": [
    "os.rename(letter.pdf,letter2.pdf)"
   ]
  },
  {
   "cell_type": "code",
   "execution_count": 106,
   "metadata": {},
   "outputs": [
    {
     "data": {
      "text/plain": [
       "'E:\\\\2018\\\\pdf_files\\\\letter3.pdf'"
      ]
     },
     "execution_count": 106,
     "metadata": {},
     "output_type": "execute_result"
    }
   ],
   "source": [
    "shutil.copy(path+'\\\\'+'pdf_filesletter3.pdf',path+'\\\\pdf_files\\\\'+'letter3.pdf')"
   ]
  },
  {
   "cell_type": "code",
   "execution_count": 34,
   "metadata": {},
   "outputs": [
    {
     "name": "stdout",
     "output_type": "stream",
     "text": [
      "Fault%20Lines_%20How%20Hidden%20Fractur%20-%20Raghuram%20G.%20Rajan\n",
      "72\n",
      "72\n",
      "80\n",
      "91\n",
      "Fault%20Lines_%20How%20Hidden%20Fractur%20-%20Raghuram%20G.%20Rajan.epub\n",
      "Fault%20Lines_%20How%20Hidden%20Fractur%20-%20Raghuram%20G.%20Rajan.epub\n",
      "Fault%20Lines_%20How%20Hidden%20Fractur%20-%20Raghuram%20G.%20Rajan.epub\n"
     ]
    }
   ],
   "source": [
    "nam='.'\n",
    "temp='Fault%20Lines_%20How%20Hidden%20Fractur%20-%20Raghuram%20G.%20Rajan.epub'\n",
    "nam=nam.join(temp.split('.')[0:len(temp.split('.'))-1])\n",
    "nam=nam.split('\\\\')[-1]\n",
    "print(nam)\n",
    "if '\\\\' in temp.split('.')[-1]:\n",
    "    pass\n",
    "else:\n",
    "        ext=f.split('.')[-1]\n",
    "        fullfilename=nam+'.'+ext\n",
    "        print(len(fullfilename))\n",
    "        print(len(temp))\n",
    "        src=path+'\\\\'+fullfilename\n",
    "        dst=path+'\\\\'+ext+'_files\\\\'+fullfilename\n",
    "        print(len(src))\n",
    "        print(len(dst))\n",
    "        extf=ext.upper()\n",
    "        \n",
    "        print(nam+'.'+ext)\n",
    "        #os.rename(nam+'.'+ext,path+'\\\\'+ext+'_files\\\\'+nam+'.'+ext)\n",
    "        #print(os.path.join(path+'\\\\', nam+'.'+ext))\n",
    "        #print(os.path.join(path+'\\\\'+ext+'_files\\\\',nam+'.'+ext))\n",
    "        #shutil.copy(src,dst)\n",
    "        #shutil.copy(src,dst)\n",
    "print(temp)\n",
    "print(fullfilename)\n",
    "for (i,j) in zip(temp,fullfilename):\n",
    "    if(i!=j):\n",
    "        print(i+'====='+j)"
   ]
  },
  {
   "cell_type": "code",
   "execution_count": 45,
   "metadata": {},
   "outputs": [],
   "source": [
    "newpath=r'E:\\Disk F\\RedMi Data\\memory card\\Download\\Organized by extension'"
   ]
  },
  {
   "cell_type": "code",
   "execution_count": 46,
   "metadata": {},
   "outputs": [],
   "source": [
    "makedir(newpath)\n"
   ]
  },
  {
   "cell_type": "code",
   "execution_count": 47,
   "metadata": {},
   "outputs": [
    {
     "name": "stdout",
     "output_type": "stream",
     "text": [
      "succesfully organized\n"
     ]
    }
   ],
   "source": [
    "movefile(newpath)"
   ]
  },
  {
   "cell_type": "code",
   "execution_count": 62,
   "metadata": {},
   "outputs": [
    {
     "name": "stdout",
     "output_type": "stream",
     "text": [
      "last modified: Thu May 10 08:27:22 2012\n",
      "created: Sat Jun 18 18:57:34 2016\n"
     ]
    }
   ],
   "source": [
    "#to check the modified and creation time of a file on windows\n",
    "\n",
    "import os.path, time\n",
    "cpath=r'E:\\Disk F\\RedMi Data\\memory card\\Backgrounds\\1.png'\n",
    "fpath=r'E:\\Disk F\\RedMi Data\\memory card\\Backgrounds'\n",
    "file=r'E:\\Disk F\\RedMi Data\\memory card\\Download\\Organized by extension\\1.png'\n",
    "print(\"last modified: %s\" %time.ctime(os.path.getmtime(cpath)))\n",
    "print(\"created: %s\" %time.ctime(os.path.getctime(cpath)))"
   ]
  },
  {
   "cell_type": "code",
   "execution_count": 73,
   "metadata": {},
   "outputs": [
    {
     "ename": "FileNotFoundError",
     "evalue": "[WinError 2] The system cannot find the file specified: 'E:\\\\Disk F\\\\RedMi Data\\\\memory card\\\\Backgrounds\\\\1.png'",
     "output_type": "error",
     "traceback": [
      "\u001b[1;31m---------------------------------------------------------------------------\u001b[0m",
      "\u001b[1;31mFileNotFoundError\u001b[0m                         Traceback (most recent call last)",
      "\u001b[1;32m<ipython-input-73-c49cb1cdd0e2>\u001b[0m in \u001b[0;36m<module>\u001b[1;34m()\u001b[0m\n\u001b[1;32m----> 1\u001b[1;33m \u001b[0myear\u001b[0m\u001b[1;33m=\u001b[0m\u001b[0mtime\u001b[0m\u001b[1;33m.\u001b[0m\u001b[0mstrptime\u001b[0m\u001b[1;33m(\u001b[0m\u001b[0mtime\u001b[0m\u001b[1;33m.\u001b[0m\u001b[0mctime\u001b[0m\u001b[1;33m(\u001b[0m\u001b[0mos\u001b[0m\u001b[1;33m.\u001b[0m\u001b[0mpath\u001b[0m\u001b[1;33m.\u001b[0m\u001b[0mgetmtime\u001b[0m\u001b[1;33m(\u001b[0m\u001b[0mcpath\u001b[0m\u001b[1;33m)\u001b[0m\u001b[1;33m)\u001b[0m\u001b[1;33m)\u001b[0m\u001b[1;33m\u001b[0m\u001b[0m\n\u001b[0m",
      "\u001b[1;32m~\\Anaconda3\\lib\\genericpath.py\u001b[0m in \u001b[0;36mgetmtime\u001b[1;34m(filename)\u001b[0m\n\u001b[0;32m     53\u001b[0m \u001b[1;32mdef\u001b[0m \u001b[0mgetmtime\u001b[0m\u001b[1;33m(\u001b[0m\u001b[0mfilename\u001b[0m\u001b[1;33m)\u001b[0m\u001b[1;33m:\u001b[0m\u001b[1;33m\u001b[0m\u001b[0m\n\u001b[0;32m     54\u001b[0m     \u001b[1;34m\"\"\"Return the last modification time of a file, reported by os.stat().\"\"\"\u001b[0m\u001b[1;33m\u001b[0m\u001b[0m\n\u001b[1;32m---> 55\u001b[1;33m     \u001b[1;32mreturn\u001b[0m \u001b[0mos\u001b[0m\u001b[1;33m.\u001b[0m\u001b[0mstat\u001b[0m\u001b[1;33m(\u001b[0m\u001b[0mfilename\u001b[0m\u001b[1;33m)\u001b[0m\u001b[1;33m.\u001b[0m\u001b[0mst_mtime\u001b[0m\u001b[1;33m\u001b[0m\u001b[0m\n\u001b[0m\u001b[0;32m     56\u001b[0m \u001b[1;33m\u001b[0m\u001b[0m\n\u001b[0;32m     57\u001b[0m \u001b[1;33m\u001b[0m\u001b[0m\n",
      "\u001b[1;31mFileNotFoundError\u001b[0m: [WinError 2] The system cannot find the file specified: 'E:\\\\Disk F\\\\RedMi Data\\\\memory card\\\\Backgrounds\\\\1.png'"
     ]
    }
   ],
   "source": [
    "year=time.strptime(time.ctime(os.path.getmtime(cpath)))\n"
   ]
  },
  {
   "cell_type": "code",
   "execution_count": 100,
   "metadata": {},
   "outputs": [
    {
     "name": "stdout",
     "output_type": "stream",
     "text": [
      "folders crearted\n"
     ]
    }
   ],
   "source": [
    "#this will create folders yearwise\n",
    "\n",
    "import shutil\n",
    "fpath=r'E:\\Disk F\\RedMi Data\\memory card\\DCIM\\upto 2016 JULY'\n",
    "for f in glob.glob(fpath+'\\\\*.jpg'):\n",
    "    #make folder in the current folder with year name\n",
    "    year=time.ctime(os.path.getmtime(f)).split()[-1]\n",
    "    #print(f)\n",
    "    if os.path.exists(fpath+'\\\\'+year):\n",
    "        pass\n",
    "    else:\n",
    "        os.mkdir(fpath+'\\\\'+year)\n",
    "    #print(year)\n",
    "    \n",
    "    shutil.move(f,fpath+'\\\\'+year+'\\\\')\n",
    "    \n",
    "print('folders crearted')\n",
    "# if year=='2012' and cpath.split('.')[-1]=='png':\n",
    "#     os.mkdir(fpath+'\\\\'+year)"
   ]
  },
  {
   "cell_type": "code",
   "execution_count": 78,
   "metadata": {},
   "outputs": [],
   "source": [
    "imagepath=r'E:\\Disk F\\RedMi Data\\memory card\\DCIM\\Camera\\2018\\20181016_130644_BEST.jpg'\n",
    "year=time.strptime(time.ctime(os.path.getmtime(imagepath)))"
   ]
  },
  {
   "cell_type": "code",
   "execution_count": 86,
   "metadata": {},
   "outputs": [
    {
     "data": {
      "text/plain": [
       "'Oct'"
      ]
     },
     "execution_count": 86,
     "metadata": {},
     "output_type": "execute_result"
    }
   ],
   "source": [
    "time.ctime(os.path.getmtime(imagepath)).split()[1]"
   ]
  },
  {
   "cell_type": "code",
   "execution_count": 105,
   "metadata": {},
   "outputs": [
    {
     "name": "stdout",
     "output_type": "stream",
     "text": [
      "successful\n"
     ]
    }
   ],
   "source": [
    "#this will make a folder month wise and organise images in those folders\n",
    "\n",
    "\n",
    "imagepath=r'E:\\Disk F\\RedMi Data\\memory card\\DCIM\\upto 2016 JULY\\2017'\n",
    "for f in glob.glob(imagepath+'\\\\*.jpg'):\n",
    "    #make folder in the current folder with year name\n",
    "    month=time.ctime(os.path.getmtime(f)).split()[1]\n",
    "    #print(f)\n",
    "    if os.path.exists(imagepath+'\\\\'+month):\n",
    "        pass\n",
    "    else:\n",
    "        os.mkdir(imagepath+'\\\\'+month)\n",
    "    #print(month)\n",
    "    \n",
    "    shutil.move(f,imagepath+'\\\\'+month+'\\\\')\n",
    "print(\"successful\")"
   ]
  },
  {
   "cell_type": "code",
   "execution_count": null,
   "metadata": {},
   "outputs": [],
   "source": []
  }
 ],
 "metadata": {
  "kernelspec": {
   "display_name": "Python 3",
   "language": "python",
   "name": "python3"
  },
  "language_info": {
   "codemirror_mode": {
    "name": "ipython",
    "version": 3
   },
   "file_extension": ".py",
   "mimetype": "text/x-python",
   "name": "python",
   "nbconvert_exporter": "python",
   "pygments_lexer": "ipython3",
   "version": "3.6.5"
  }
 },
 "nbformat": 4,
 "nbformat_minor": 2
}
